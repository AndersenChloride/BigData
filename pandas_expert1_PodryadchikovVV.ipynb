{
  "cells": [
    {
      "cell_type": "markdown",
      "source": [
        "#Большие данные\n",
        "#Отчет. Работа с фреймами данных. Библиотека Pandas. Экспертные задания 1\n",
        "#Подготовил: Подрядчиков Владимир Валерьевич, группа 02421-ДБ"
      ],
      "metadata": {
        "id": "UaIXlUX0s2Fm"
      }
    },
    {
      "cell_type": "markdown",
      "metadata": {
        "id": "66KPHnphoq2v"
      },
      "source": [
        "# <center> Homework 1 (Topics 1-4: Data Structures, Indexing, Cleaning Data, Math)"
      ]
    },
    {
      "cell_type": "code",
      "execution_count": null,
      "metadata": {
        "ExecuteTime": {
          "end_time": "2020-04-23T10:16:05.965275Z",
          "start_time": "2020-04-23T10:16:05.312704Z"
        },
        "id": "SM_kASl0oq2v"
      },
      "outputs": [],
      "source": [
        "import pandas as pd\n",
        "import numpy as np"
      ]
    },
    {
      "cell_type": "markdown",
      "metadata": {
        "id": "4KIKIuCsoq2w"
      },
      "source": [
        "#### Task 1.\n",
        "Задание:\n",
        "\n",
        "1. Создайте Series из последовательности 15 значений, равномерно разбивающих отрезок [0, 20] (воспользуйтесь функцией linspace)\n",
        "2. Определите отношение элементов полученной серии к их предыдущим элементам (\\*).\n",
        "3. В результате необходимо получить среднее полученного вектора, оставив в нём только те значения, которые не более чем 1.5 (\\**).\n",
        "\n",
        "Выберите из ответов тот, который максимально близок к полученному (c точки зрения абсолютной разницы).\n",
        "\n",
        "#### Варианты ответов:\n",
        "    - 1) 1.24\n",
        "    - 2) 1.18\n",
        "    - 3) 0.71\n",
        "    - 4) 1.13\n",
        "\n",
        "\n",
        "##### Пояснения:\n",
        "(\\*) Если было бы необходимо найти последовательность из 3-х значений,  \n",
        "равномерно разбивающих отрезок [0,1], то это были бы значения [0, 0.5, 1].\n",
        "\n",
        "(\\**) Если был бы дан список элементов a = [1,2,3,12], отношения элементов к предыдущим будут равны [NaN, 2, 1.5, 4].  \n",
        "А на последнем этапе в таком примере останется только [1.5] и среднее значение будет также 1.5."
      ]
    },
    {
      "cell_type": "code",
      "execution_count": null,
      "metadata": {
        "ExecuteTime": {
          "end_time": "2020-04-23T10:13:26.017568Z",
          "start_time": "2020-04-23T10:13:26.014793Z"
        },
        "colab": {
          "base_uri": "https://localhost:8080/"
        },
        "id": "od6OvY0ooq2w",
        "outputId": "783586bd-586a-4998-d8cb-908431b4739a"
      },
      "outputs": [
        {
          "output_type": "stream",
          "name": "stdout",
          "text": [
            "1.181677812927813\n"
          ]
        }
      ],
      "source": [
        "series = pd.Series(np.linspace(0, 20, 15))\n",
        "ratios = series / series.shift(1)\n",
        "ratios_filter = ratios[ratios <= 1.5]\n",
        "result = ratios_filter.mean()\n",
        "\n",
        "print(result)"
      ]
    },
    {
      "cell_type": "markdown",
      "source": [
        "Ответ: **Вариант 2) 1.18**"
      ],
      "metadata": {
        "id": "dWNfdBTjpqQ0"
      }
    },
    {
      "cell_type": "markdown",
      "metadata": {
        "id": "J133bdovoq2w"
      },
      "source": [
        "#### Task 2.\n",
        "Выберите все верные ответы касательно следующих 3-х Series:\n",
        "    - pd.Series('abcde'); (1)\n",
        "    - pd.Series(['abcde']); (2)\n",
        "    - pd.Series(list('abcde')); (3)\n",
        "    - pd.Series(\"abcde\"); (4)\n",
        "    \n",
        "##### Пояснения:\n",
        "(\\*)\n",
        "- функция list: в строке каждый символ - это отдельный элемент для list\n",
        "- квадратные скобки: в квадратных скобках списку передается множество элементов по отдельности через запятую\n",
        "\n",
        "\n",
        "#### Вопросы:\n",
        "    - 1) Серия (1) совпадает с серией (2), так как в каждом из случаев серия создаётся из списка строк\n",
        "    - 2) Серия (2) совпадает с серией (3), так как в каждом из случаев серия создаётся из списка символов\n",
        "    - 3) Серия (1) не совпадает с серией (4), так как в (4) используются двойные кавычки \"\" вместо одинарных ''"
      ]
    },
    {
      "cell_type": "code",
      "source": [
        "#Инициализируем Series элементы\n",
        "first = pd.Series('abcde')\n",
        "second = pd.Series(['abcde'])\n",
        "third = pd.Series(list('abcde'))\n",
        "forth = pd.Series(\"abcde\")"
      ],
      "metadata": {
        "id": "V5qDC6bYqgSp"
      },
      "execution_count": null,
      "outputs": []
    },
    {
      "cell_type": "code",
      "source": [
        "print(first)\n",
        "print(second)\n",
        "print(third)\n",
        "print(forth)"
      ],
      "metadata": {
        "colab": {
          "base_uri": "https://localhost:8080/"
        },
        "id": "RWMHo8snrJoW",
        "outputId": "239dcb02-8de8-4415-a729-57d591f0de91"
      },
      "execution_count": null,
      "outputs": [
        {
          "output_type": "stream",
          "name": "stdout",
          "text": [
            "0    abcde\n",
            "dtype: object\n",
            "0    abcde\n",
            "dtype: object\n",
            "0    a\n",
            "1    b\n",
            "2    c\n",
            "3    d\n",
            "4    e\n",
            "dtype: object\n",
            "0    abcde\n",
            "dtype: object\n"
          ]
        }
      ]
    },
    {
      "cell_type": "markdown",
      "source": [
        "В результате видим, что объекты 1,2,4 содержат один элемент abcde, только объект 3 содержит 5 символов по отдельности.\n",
        "\n",
        "**Верно утверждение 1)**"
      ],
      "metadata": {
        "id": "Vjbqd1fhrvXy"
      }
    },
    {
      "cell_type": "markdown",
      "metadata": {
        "id": "wMhJdlMkoq2x"
      },
      "source": [
        "#### Task 3.\n",
        "\n",
        "По клиенту получены зашумленные данные (объект s типа Series) по его транзакциям.\n",
        "\n",
        "Для заданного ниже объекта s проделайте следующее:\n",
        "1. Создайте новый Series, значения которого совпадают со значениями s, а индексы - целочисленные значения от 2 до 12, не включая 12.\n",
        "2. Выберите из s элементы с индексами 3 и 5, после чего просуммируйте их, сохранив результат (1).\n",
        "3. Выберите из s только целочисленные элементы и вычислите их дисперсию (2). (\\*)\n",
        "\n",
        "Все полученные результаты округлите до 2-х знаков после запятой.\n",
        "\n",
        "#### Выберите все верные пункты:\n",
        "    - 1) Ответ (1) - 642.52\n",
        "    - 2) Ответ (1) - 91.78\n",
        "    - 3) Ответ (1) - не может быть определён\n",
        "    - 4) Ответ (2) - 57591.19\n",
        "    - 5) Ответ (2) - 210.12\n",
        "    - 6) Ответ (2) - не может быть определён\n",
        "\n",
        "##### Пояснения:\n",
        "(\\*) Целочисленные значения - значения, имеющие тип int.\n",
        "- Дисперсия рассчитывается с помощью функции из библиотеки numpy: np.var( , ddof=0) или встроенной в python функции: .var(ddof=1)"
      ]
    },
    {
      "cell_type": "code",
      "execution_count": null,
      "metadata": {
        "ExecuteTime": {
          "end_time": "2020-04-23T10:17:18.795695Z",
          "start_time": "2020-04-23T10:17:18.791449Z"
        },
        "colab": {
          "base_uri": "https://localhost:8080/"
        },
        "id": "UhzeKNIsoq2x",
        "outputId": "d26574ea-75d7-4d02-f874-e49100be5cf4"
      },
      "outputs": [
        {
          "output_type": "stream",
          "name": "stdout",
          "text": [
            "6       1.0\n",
            "8       2.0\n",
            "14      5.0\n",
            "16   -512.0\n",
            "24     98.0\n",
            "dtype: float64\n",
            "59702.7\n"
          ]
        }
      ],
      "source": [
        "s = pd.Series(data=['1', 2, 3.1, 'hi!', 5, -512, 12.42, 'sber', 10.10, 98],\n",
        "              index=range(6, 26, 2))\n",
        "\n",
        "new = pd.Series(data=s.values, index=range(2, 12))\n",
        "\n",
        "#sum_1 = s.loc[[3, 5]].astype(float).sum()\n",
        "\n",
        "nums = pd.to_numeric(s, errors='coerce').dropna()\n",
        "integers = nums[nums.astype(int) == nums]\n",
        "disp_2 = round(np.var(integers , ddof=1), 2)\n",
        "\n",
        "print(integers)\n",
        "print(disp_2)\n"
      ]
    },
    {
      "cell_type": "markdown",
      "source": [
        "В s вообще нет элементов с индексами 3 и 5. Поэтому нельзя просуммировать, выдаст ошибку. Если нужно было просуммировать значения из new, то там это тоже нельзя сделать, так как один из элементов типа String.\n",
        "\n",
        "Для второго условия сначала перевели элементы в числа, если это возможно. Искочили то, что перевести не удалось и дальше взяли те, что при переводе в целые остались самими собой.\n",
        "Дисперсия целочисленных элементов будет равна 59702,2\n",
        "\n",
        "Ответ: 3) и 4)(наиболее близок к посчитанному значению)"
      ],
      "metadata": {
        "id": "EHXfy0KR-hpB"
      }
    },
    {
      "cell_type": "markdown",
      "metadata": {
        "id": "excXNeUToq2x"
      },
      "source": [
        "#### Task 4.\n",
        "1. Сгенерируйте Series из 100 значений нормально распределённой СВ (np.random.normal с дефолтными параметрами - нулевым средним и единичной дисперсией).\n",
        "2. Возведите каждое значение серии в 3 степень, а значения индекса увеличьте в 3 раза.\n",
        "3. Ответьте на следующие вопросы через запятую (без пробелов) (\\*)\n",
        "    - 1) Выведите сумму элементов, строго меньших 2.6, имеющих нечётные значения индекса.\n",
        "    - 2) Выведите количество значений серии меньше нуля.\n",
        "\n",
        "#### Пояснения:\n",
        "(\\*) Если получились ответы 3, 4.32, то в форму необходимо внести их в виде \"3,4.32\". То есть вещественные числа необходимо разделять точками. Не забудьте про фиксированный seed (его менять не нужно)!\n",
        " - Определенное значение seed нужно, чтобы ответы у всех выполняющих\n",
        "это задание были одинаковые и их можно было проверить (так как генерируются\n",
        "одинаковые series).\n",
        " - Следует внимательнее использовать [ ] для выбора данных по нескольким условиям:\n",
        "либо выбирать данные последовательно, либо сразу по нескольким условиям,\n",
        "но через оператор &. Отличие оператора and от оператора &: and - выводит\n",
        "последнее проверенное значение, & - выводит пересечение значений.\n",
        "Пример: s[ _  &  _ ].sum()"
      ]
    },
    {
      "cell_type": "code",
      "execution_count": null,
      "metadata": {
        "ExecuteTime": {
          "end_time": "2020-04-23T10:18:35.713300Z",
          "start_time": "2020-04-23T10:18:35.710616Z"
        },
        "id": "x9kPGcI_oq2x",
        "colab": {
          "base_uri": "https://localhost:8080/"
        },
        "outputId": "4c52a075-033f-4e61-8c80-2231cd141a63"
      },
      "outputs": [
        {
          "output_type": "stream",
          "name": "stdout",
          "text": [
            "-15.150748101821666\n",
            "51\n"
          ]
        }
      ],
      "source": [
        "np.random.seed(242)\n",
        "\n",
        "s = pd.Series(np.random.normal(size=100))\n",
        "s = s**3\n",
        "s.index = s.index * 3\n",
        "\n",
        "sum_odd= s[(s < 2.6) & (s.index % 2 != 0)].sum()\n",
        "\n",
        "less_0 = s[s < 0]\n",
        "len_less_0 = len(less_0)\n",
        "\n",
        "print(sum_odd)\n",
        "print(len_less_0)\n"
      ]
    },
    {
      "cell_type": "markdown",
      "source": [
        "Ответ:   \n",
        "1) -15,15  \n",
        "2) 51"
      ],
      "metadata": {
        "id": "SH0p-PI6Ew2M"
      }
    },
    {
      "cell_type": "markdown",
      "metadata": {
        "id": "9xB8u0JWoq2x"
      },
      "source": [
        "### Информация для последующих заданий\n",
        "- Для всех последующих заданий будем использовать обезличенные транзакционные банковские данные. Для этого считайте в переменные tr_mcc_codes, tr_types, transactions и gender_train из одноимённых таблиц из папки data. Для таблицы transactions используйте только первые n=1000000 строк. Обратите внимание на разделители внутри каждого из файлов - они могут различаться!"
      ]
    },
    {
      "cell_type": "code",
      "execution_count": null,
      "metadata": {
        "ExecuteTime": {
          "end_time": "2020-04-23T10:19:13.080203Z",
          "start_time": "2020-04-23T10:19:13.077711Z"
        },
        "id": "QiLP7SR8oq2x"
      },
      "outputs": [],
      "source": [
        "tr_mcc_codes = pd.read_table('tr_mcc_codes.csv', sep = ';')\n",
        "tr_types = pd.read_table('tr_types.csv', sep = ';')\n",
        "transactions = pd.read_table('transactions.csv', nrows = 1000000, sep = ',')\n",
        "gender_train = pd.read_table('gender_train.csv', sep = ',')"
      ]
    },
    {
      "cell_type": "markdown",
      "metadata": {
        "id": "eamARXdeoq2x"
      },
      "source": [
        "# Описание данных\n",
        "### Таблица ```transactions.csv```\n",
        "##### Описание\n",
        "Таблица содержит историю транзакций клиентов банка за один год и три месяца.\n",
        "\n",
        "##### Формат данных\n",
        "\n",
        "```\n",
        "customer_id,tr_datetime,mcc_code,tr_type,amount,term_id\n",
        "111111,15 01:40:52,1111,1000,-5224,111111\n",
        "111112,15 15:18:32,3333,2000,-100,11122233\n",
        "...\n",
        "```\n",
        "##### Описание полей\n",
        "\n",
        " - ```customer_id``` — идентификатор клиента;\n",
        " - ```tr_datetime``` — день и время совершения транзакции (дни нумеруются с начала данных);\n",
        " - ```mcc_code``` — mcc-код транзакции;\n",
        " - ```tr_type``` — тип транзакции;\n",
        " - ```amount``` — сумма транзакции в условных единицах со знаком; ```+``` — начисление средств клиенту (приходная транзакция), ```-``` — списание средств (расходная транзакция);\n",
        " - ```term_id``` — идентификатор терминала;\n",
        "\n",
        "\n",
        "### Таблица ```gender_train.csv```\n",
        "\n",
        "##### Описание\n",
        "Данная таблица содержит информацию по полу для части клиентов, для которых он известен. Для остальных клиентов пол неизвестен.\n",
        "\n",
        "##### Формат данных\n",
        "```\n",
        "customer_id,gender\n",
        "111111,0\n",
        "111112,1\n",
        "...\n",
        "```\n",
        "\n",
        "##### Описание полей\n",
        " - ```customer_id``` — идентификатор клиента;\n",
        " - ```gender``` — пол клиента;\n",
        "\n",
        "### Таблица ```tr_mcc_codes.csv```\n",
        "\n",
        "##### Описание\n",
        "Данная таблица содержит описание mcc-кодов транзакций.\n",
        "\n",
        "##### Формат данных\n",
        "```\n",
        "mcc_code;mcc_description\n",
        "1000;словесное описание mcc-кода 1000\n",
        "2000;словесное описание mcc-кода 2000\n",
        "...\n",
        "```\n",
        "\n",
        "##### Описание полей\n",
        " - ```mcc_code``` – mcc-код транзакции;\n",
        " - ```mcc_description``` — описание mcc-кода транзакции.\n",
        "\n",
        "### Таблица ```tr_types.csv```\n",
        "\n",
        "##### Описание\n",
        "Данная таблица содержит описание типов транзакций.\n",
        "\n",
        "##### Формат данных\n",
        "```\n",
        "tr_type;tr_description\n",
        "1000;словесное описание типа транзакции 1000\n",
        "2000;словесное описание типа транзакции 2000\n",
        "...\n",
        "```\n",
        "\n",
        "##### Описание полей\n",
        " - ```tr_type``` – тип транзакции;\n",
        " - ```tr_description``` — описание типа транзакции;"
      ]
    },
    {
      "cell_type": "markdown",
      "metadata": {
        "id": "9fWEnASWoq2y"
      },
      "source": [
        "#### Task 5.\n",
        "1. В tr_types выберите произвольные 100 строк с помощью метода sample (указав при этом random_seed равный 242)\n",
        "2. В полученной на предыдущем этапе подвыборке найдите долю наблюдений (стобец tr_description), в которой содержится подстрока 'плата' (в любом регистре). (\\*)\n",
        "\n",
        "Выведите ответ в виде вещественного числа, округлённого до двух знаков после запятой, отделив дробную часть точкой в формате \"123.45\"\n",
        "\n",
        "##### Пояснения:\n",
        "(\\*) Строки \"ПлатА за аренду\", \"ПлатАза аренду\", \"ПЛАТА\" удовлетворяют условию, так как будучи переведёнными в нижний регистр содержат подстроку \"плата\"."
      ]
    },
    {
      "cell_type": "code",
      "execution_count": null,
      "metadata": {
        "ExecuteTime": {
          "end_time": "2020-04-23T10:19:45.872766Z",
          "start_time": "2020-04-23T10:19:45.870317Z"
        },
        "scrolled": true,
        "id": "YfUJMFFXoq2y",
        "colab": {
          "base_uri": "https://localhost:8080/"
        },
        "outputId": "a045a23f-0836-44b4-e9d7-b908a6af5a31"
      },
      "outputs": [
        {
          "output_type": "stream",
          "name": "stdout",
          "text": [
            "0.26\n"
          ]
        }
      ],
      "source": [
        "str_100 = tr_types.sample(n=100, random_state=242)\n",
        "\n",
        "count_plata = str_100['tr_description'].str.lower().str.contains('плата').sum()\n",
        "\n",
        "frac_plata = count_plata / len(str_100)\n",
        "\n",
        "print(\"{:.2f}\".format(frac_plata))"
      ]
    },
    {
      "cell_type": "markdown",
      "source": [
        "Ответ: 0.26"
      ],
      "metadata": {
        "id": "o8IpcpQ2Inws"
      }
    },
    {
      "cell_type": "markdown",
      "metadata": {
        "id": "yOSo2ukHoq2y"
      },
      "source": [
        "#### Task 6.\n",
        "1. Для поля tr_type датафрейма transactions посчитайте частоту встречаемости всех типов транзакций tr_type в transactions.\n",
        "2. Из перечисленных вариантов выберите те, которые попали в топ-5 транзакций по частоте встречаемости.\n",
        "\n",
        "#### Выберите все верные пункты:\n",
        "    - 1) Выдача наличных в АТМ Сбербанк России\n",
        "    - 2) Комиссия за обслуживание ссудного счета\n",
        "    - 3) Списание по требованию\n",
        "    - 4) Оплата услуги. Банкоматы СБ РФ\n",
        "    - 5) Погашение кредита (в пределах одного филиала)\n",
        "    - 6) Покупка. POS ТУ СБ РФ"
      ]
    },
    {
      "cell_type": "code",
      "execution_count": null,
      "metadata": {
        "ExecuteTime": {
          "end_time": "2020-04-23T10:20:31.273965Z",
          "start_time": "2020-04-23T10:20:31.271483Z"
        },
        "id": "st3wx43boq2y",
        "colab": {
          "base_uri": "https://localhost:8080/"
        },
        "outputId": "ad087074-b161-4f15-c09a-35549159386f"
      },
      "outputs": [
        {
          "output_type": "stream",
          "name": "stdout",
          "text": [
            "98                                 Покупка. POS ТУ СБ РФ\n",
            "106                Выдача наличных в АТМ Сбербанк России\n",
            "101                               Покупка. POS ТУ Россия\n",
            "99                        Оплата услуги. Банкоматы СБ РФ\n",
            "59     Перевод на карту (с карты) через Мобильный бан...\n",
            "Name: tr_description, dtype: object\n"
          ]
        }
      ],
      "source": [
        "tr_type_count = transactions['tr_type'].value_counts()\n",
        "\n",
        "top_5_code = tr_type_count.head(5)\n",
        "\n",
        "top_5_desc = pd.merge(pd.DataFrame(top_5_code), tr_types, left_index=True, right_on='tr_type')\n",
        "\n",
        "print(top_5_desc['tr_description'])"
      ]
    },
    {
      "cell_type": "markdown",
      "source": [
        "Ответ:  \n",
        "1) Выдача наличных в АТМ Сбербанк России  \n",
        "4) Оплата услуги. Банкоматы СБ РФ  \n",
        "6) Покупка. POS ТУ СБ РФ"
      ],
      "metadata": {
        "id": "EA2_LZzjM8OH"
      }
    },
    {
      "cell_type": "markdown",
      "metadata": {
        "id": "XPNPeNkYoq2y"
      },
      "source": [
        "#### Task 7.\n",
        "1. В датафрейме transactions задайте столбец  customer_id в качестве индекса.\n",
        "2. Выделите клиента с максимальной суммой транзакции (то есть с максимальным приходом на карту). (\\*)\n",
        "3. Найдите у него наиболее часто встречающийся модуль суммы приходов/расходов. (\\**)\n",
        "\n",
        "\n",
        "#### Выберите все верные пункты:\n",
        "    - 1) 1122957.89\n",
        "    - 2) 15721.41\n",
        "    - 3) 22459.16\n",
        "    - 4) 13475494.63\n",
        "    - 5) 107407.78\n",
        "    - 6) 65019.26\n",
        "\n",
        "##### Пояснения:\n",
        "(\\*) Если у клиента были транзакции [-10000, 10, 0, -10], то максимумом будет являться значение 10. <br>\n",
        "(\\**) Если у клиента были транзакции [-10000, 10, 0, -10], то наиболее встречающийся модуль суммы транзакций равен 10, и встретился он 2 раза."
      ]
    },
    {
      "cell_type": "code",
      "execution_count": null,
      "metadata": {
        "ExecuteTime": {
          "end_time": "2020-04-23T10:20:53.265495Z",
          "start_time": "2020-04-23T10:20:53.263208Z"
        },
        "scrolled": true,
        "id": "VyiB0vGqoq2y",
        "colab": {
          "base_uri": "https://localhost:8080/"
        },
        "outputId": "fd0b9998-bafb-407a-c0e1-2bb2a62fbd4c"
      },
      "outputs": [
        {
          "output_type": "stream",
          "name": "stdout",
          "text": [
            "26782922\n",
            "145984525.17\n",
            "22459.16\n"
          ]
        }
      ],
      "source": [
        "transactions = pd.read_table('transactions.csv', index_col='customer_id', nrows = 1000000, sep = ',')\n",
        "\n",
        "id_max = transactions['amount'].idxmax()\n",
        "trans_max = transactions['amount'].max()\n",
        "\n",
        "trans_grouped2 = transactions.loc[id_max, 'amount'].abs().value_counts()\n",
        "abs_max = trans_grouped2.idxmax()\n",
        "\n",
        "print(id_max)\n",
        "print(trans_max)\n",
        "print(abs_max)\n"
      ]
    },
    {
      "cell_type": "markdown",
      "source": [
        "Id клиента с максимальной суммой транзакции: 26782922. Его максимальная транзакция 145984525.17\n",
        "\n",
        "Ответ: Наиболее часто встречающийся модуль суммы приходов/расходов\n",
        "3) 22459.16"
      ],
      "metadata": {
        "id": "NDKhVmKMdCRV"
      }
    },
    {
      "cell_type": "markdown",
      "metadata": {
        "id": "nwTEB8fOoq2y"
      },
      "source": [
        "#### Task 8.\n",
        "1. Найдите максимальную разницу между медианами суммы транзакций, посчитанными при заданных ниже условиях по полю amount из таблицы transactions (\\*):\n",
        "    - Медиана суммы транзакций\n",
        "    - Медиана суммы транзакций по тем строкам, которые ни в одном из своих столбцов не содержат пустые значения\n",
        "    - Медиана суммы транзакций по строкам, отсортированным по полю amount в порядке возрастания, и из которых удалены дублирующиеся по столбцам [mcc_code, tr_type] строки, причём при удалении соответстующих дублей остаются только последние из дублирующихся строк (keep='last')\n",
        "\n",
        "Выведите ответ в виде вещественного числа, округлённого до двух знаков после запятой, отделив дробную часть точкой в формате \"123.45\"\n",
        "\n",
        "##### Пояснения:\n",
        "(\\*) Для вычисления максимальной разницы между значениями списка можно использовать функцию np.ptp  \n",
        "(\\**) Если в результате получились значения [1,3,5], то макимальная разница между ними 4 == 5-1."
      ]
    },
    {
      "cell_type": "code",
      "execution_count": null,
      "metadata": {
        "ExecuteTime": {
          "end_time": "2020-04-23T10:21:36.645933Z",
          "start_time": "2020-04-23T10:21:36.643612Z"
        },
        "scrolled": true,
        "id": "6ACr1X87oq2y",
        "colab": {
          "base_uri": "https://localhost:8080/"
        },
        "outputId": "14bcfbbe-1288-40a3-8ded-6f3844904fe8"
      },
      "outputs": [
        {
          "output_type": "stream",
          "name": "stdout",
          "text": [
            "-5614.79\n",
            "-5596.6\n",
            "-920.83\n",
            "4693.96\n"
          ]
        }
      ],
      "source": [
        "import warnings\n",
        "warnings.filterwarnings('ignore')\n",
        "\n",
        "\n",
        "med_sum = transactions['amount'].median()\n",
        "\n",
        "transactions_noNan = transactions.dropna()\n",
        "med_sum_withoutNan = transactions_noNan.median()\n",
        "\n",
        "sorted = transactions.sort_values('amount')\n",
        "drop_dup = sorted.drop_duplicates(subset=['mcc_code', 'tr_type'], keep='last')\n",
        "med_sum_sort_nodup = drop_dup.median()\n",
        "\n",
        "print(med_sum)\n",
        "print(med_sum_withoutNan['amount'])\n",
        "print(med_sum_sort_nodup['amount'])\n",
        "\n",
        "max_diff = np.max([abs(med_sum - med_sum_withoutNan['amount']), abs(med_sum - med_sum_sort_nodup['amount']), abs(med_sum_sort_nodup['amount'] - med_sum_withoutNan['amount'])])\n",
        "\n",
        "print(\"{:.2f}\".format(max_diff))\n"
      ]
    },
    {
      "cell_type": "markdown",
      "source": [
        "Ответ:  \n",
        "Медиана 1: -5614.79  \n",
        "Медиана 2: -5596,6  \n",
        "Медиана 3: -920,83  \n",
        "Наибольшая разница - 4693.96"
      ],
      "metadata": {
        "id": "CvaUgZwEoz6H"
      }
    }
  ],
  "metadata": {
    "hide_input": false,
    "kernelspec": {
      "display_name": "Python 3",
      "language": "python",
      "name": "python3"
    },
    "language_info": {
      "codemirror_mode": {
        "name": "ipython",
        "version": 3
      },
      "file_extension": ".py",
      "mimetype": "text/x-python",
      "name": "python",
      "nbconvert_exporter": "python",
      "pygments_lexer": "ipython3",
      "version": "3.7.1"
    },
    "toc": {
      "base_numbering": 1,
      "nav_menu": {},
      "number_sections": true,
      "sideBar": true,
      "skip_h1_title": false,
      "title_cell": "Table of Contents",
      "title_sidebar": "Contents",
      "toc_cell": true,
      "toc_position": {},
      "toc_section_display": true,
      "toc_window_display": false
    },
    "varInspector": {
      "cols": {
        "lenName": 16,
        "lenType": 16,
        "lenVar": 40
      },
      "kernels_config": {
        "python": {
          "delete_cmd_postfix": "",
          "delete_cmd_prefix": "del ",
          "library": "var_list.py",
          "varRefreshCmd": "print(var_dic_list())"
        },
        "r": {
          "delete_cmd_postfix": ") ",
          "delete_cmd_prefix": "rm(",
          "library": "var_list.r",
          "varRefreshCmd": "cat(var_dic_list()) "
        }
      },
      "types_to_exclude": [
        "module",
        "function",
        "builtin_function_or_method",
        "instance",
        "_Feature"
      ],
      "window_display": false
    },
    "colab": {
      "provenance": []
    }
  },
  "nbformat": 4,
  "nbformat_minor": 0
}